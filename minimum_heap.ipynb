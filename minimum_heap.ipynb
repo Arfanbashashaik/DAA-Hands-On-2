{
  "nbformat": 4,
  "nbformat_minor": 0,
  "metadata": {
    "colab": {
      "provenance": [],
      "authorship_tag": "ABX9TyM3TcZMXEIwj5oDtRrTcDA1",
      "include_colab_link": true
    },
    "kernelspec": {
      "name": "python3",
      "display_name": "Python 3"
    },
    "language_info": {
      "name": "python"
    }
  },
  "cells": [
    {
      "cell_type": "markdown",
      "metadata": {
        "id": "view-in-github",
        "colab_type": "text"
      },
      "source": [
        "<a href=\"https://colab.research.google.com/github/Arfanbashashaik/DAA-Hands-On-2/blob/main/minimum_heap.ipynb\" target=\"_parent\"><img src=\"https://colab.research.google.com/assets/colab-badge.svg\" alt=\"Open In Colab\"/></a>"
      ]
    },
    {
      "cell_type": "code",
      "source": [
        "class MinHeap:\n",
        "     def __init__(obj):\n",
        "        obj.heap=[]\n",
        "     def parent(obj,location):\n",
        "        return(location-1)>>1\n",
        "     def left(obj,location):\n",
        "        return (location<< 1)+1\n",
        "     def right(obj,location):\n",
        "        return (location << 1)+ 2\n",
        "\n",
        "     def build_min_heap(obj,arr):\n",
        "      obj.heap=arr[:]\n",
        "      heap_size=len(obj.heap)\n",
        "      for location in range(heap_size//2- 1, -1,-1):\n",
        "         obj.heapify(location)\n",
        "\n",
        "     def heapify(obj,location):\n",
        "        smallest= location\n",
        "        left_location=obj.left(location)\n",
        "        right_location=obj.right(location)\n",
        "        if left_location<len(obj.heap):\n",
        "          if obj.heap[left_location]< obj.heap[smallest]:\n",
        "              smallest =left_location\n",
        "        if right_location<len(obj.heap):\n",
        "          if obj.heap[right_location]<obj.heap[smallest]:\n",
        "             smallest =right_location\n",
        "        if smallest!= location:\n",
        "            obj.heap[location],obj.heap[smallest] =obj.heap[smallest],obj.heap[location]\n",
        "            obj.heapify(smallest)\n",
        "     def pop_root(obj):\n",
        "        if not obj.heap:\n",
        "            return None\n",
        "        root = obj.heap[0]\n",
        "        obj.heap[0] = obj.heap[-1]\n",
        "        obj.heap.pop()\n",
        "        if obj.heap:\n",
        "            obj.heapify(0)\n",
        "        return root\n",
        "\n",
        "if __name__ == \"__main__\":\n",
        "    min_heap= MinHeap()\n",
        "    # for negative numbers\n",
        "    min_heap.build_min_heap([-22,-23,-20,1,-2])\n",
        "    print(\"Heap for Negative Integers:\",min_heap.heap)\n",
        "    print(\"Extracted minimum element :\",min_heap.pop_root())\n",
        "    print(\"Heap after Root Retraction:\",min_heap.heap)\n",
        "    # for floats\n",
        "    min_heap.build_min_heap([2.3,-2.1,5.9,1.0,0.3])\n",
        "    print(\"\\nHeap for Floats:\",min_heap.heap)\n",
        "    print(\"Extracted minimum element:\",min_heap.pop_root())\n",
        "    print(\"Heap after Root Retraction:\",min_heap.heap)\n",
        "    # for strings\n",
        "    min_heap.build_min_heap(['ducati','benz','mustang','lambo'])\n",
        "    print(\"\\nHeap for strings:\",min_heap.heap)\n",
        "    print(\"Extracted minimum element:\",min_heap.pop_root())\n",
        "    print(\"Heap after Root Retraction:\",min_heap.heap)"
      ],
      "metadata": {
        "colab": {
          "base_uri": "https://localhost:8080/"
        },
        "id": "P1EYhtya3heC",
        "outputId": "8214b9c1-2948-49f0-a5a3-d1908114c51b"
      },
      "execution_count": 80,
      "outputs": [
        {
          "output_type": "stream",
          "name": "stdout",
          "text": [
            "Heap for Negative Integers: [-23, -22, -20, 1, -2]\n",
            "Extracted minimum element : -23\n",
            "Heap after Root Retraction: [-22, -2, -20, 1]\n",
            "\n",
            "Heap for Floats: [-2.1, 0.3, 5.9, 1.0, 2.3]\n",
            "Extracted minimum element: -2.1\n",
            "Heap after Root Retraction: [0.3, 1.0, 5.9, 2.3]\n",
            "\n",
            "Heap for strings: ['benz', 'ducati', 'mustang', 'lambo']\n",
            "Extracted minimum element: benz\n",
            "Heap after Root Retraction: ['ducati', 'lambo', 'mustang']\n"
          ]
        }
      ]
    }
  ]
}